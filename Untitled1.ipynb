{
 "cells": [
  {
   "cell_type": "code",
   "execution_count": null,
   "id": "cec2f6fc",
   "metadata": {},
   "outputs": [],
   "source": [
    "n = int(input(\"？\"))\n",
    "n1 = 0\n",
    "n2 = 1\n",
    "count = 2\n",
    "if n <= 0:\n",
    "    print(\"input\")\n",
    "elif n == 1:\n",
    "    print(n1)\n",
    "else:\n",
    "    print(n1, \",\", n2, end=\" , \")\n",
    "    while count < n:\n",
    "        nx = n1 + n2\n",
    "        print(nx, end=\" , \")\n",
    "        n1 = n2\n",
    "        n2 = nx\n",
    "        count += 1"
   ]
  },
  {
   "cell_type": "code",
   "execution_count": null,
   "id": "8345e077",
   "metadata": {},
   "outputs": [],
   "source": [
    "import random\n",
    "import string\n",
    "def random_user_id():\n",
    "    return ''.join(random.sample(string.ascii_letters + string.digits, 6))\n",
    "print(random_user_id())"
   ]
  },
  {
   "cell_type": "code",
   "execution_count": null,
   "id": "8d8f1d6b",
   "metadata": {},
   "outputs": [],
   "source": [
    "a=int(input(\"pls enter how many ID u want\"))\n",
    "b=int(input(\"pls enter how many letters u want in a single ID\"))\n",
    "def user_id_gen_by_user():\n",
    "    c=[random.sample(string.ascii_letters + string.digits, b) for i in range(a)]\n",
    "    for l in c:\n",
    "        print(''.join(l))\n",
    "user_id_gen_by_user()"
   ]
  },
  {
   "cell_type": "code",
   "execution_count": null,
   "id": "9b5af470",
   "metadata": {},
   "outputs": [],
   "source": [
    "def rgb_color_gen():\n",
    "    return [random.randint(0,255),random.randint(0,255),random.randint(0,255)]\n",
    "print(rgb_color_gen())"
   ]
  },
  {
   "cell_type": "code",
   "execution_count": null,
   "id": "da405056",
   "metadata": {},
   "outputs": [],
   "source": [
    "def list_of_hexa_colors():\n",
    "    letter=[\"1\",\"2\",\"3\",\"4\",\"5\",\"6\",\"7\",\"8\",\"9\",\"0\",\"a\",'b','c','d','e','f']\n",
    "    hex=\"#\"+\"\".join(random.sample(letter,6))\n",
    "    return hex\n",
    "print(list_of_hexa_colors())"
   ]
  },
  {
   "cell_type": "code",
   "execution_count": null,
   "id": "79abf709",
   "metadata": {},
   "outputs": [],
   "source": [
    "def list_of_rgb_colors():\n",
    "    return(random.randint(0,255),random.randint(0,255),random.randint(0,255))\n",
    "print(list_of_rgb_colors())"
   ]
  },
  {
   "cell_type": "code",
   "execution_count": null,
   "id": "fb542184",
   "metadata": {},
   "outputs": [],
   "source": [
    "def generate_colors(input,times):\n",
    "    list=[]\n",
    "    if input == 'hexa':\n",
    "        while times != 0:\n",
    "            list.append(list_of_hexa_colors())\n",
    "            times-=1\n",
    "        return list\n",
    "    elif input =='rgb':\n",
    "        while times != 0:\n",
    "            list.append(list_of_rgb_colors())\n",
    "            times -= 1\n",
    "        return list\n",
    "    else:\n",
    "        print(\"error\")\n",
    "print(generate_colors('hexa',3))\n",
    "print(generate_colors('hexa',1))\n",
    "print(generate_colors('rgb',1))\n",
    "print(generate_colors('rgb',3))\n",
    "\n",
    "\n",
    "def shuffle_list(seq) :\n",
    "    return random.shuffle(seq)\n",
    "\n",
    "def func():\n",
    "    num = [\"1\", \"2\", \"3\", \"4\", \"5\", \"6\", \"7\", \"8\", \"9\", \"0\"]\n",
    "    return random.sample(num,6)\n",
    "print(func())"
   ]
  },
  {
   "cell_type": "code",
   "execution_count": null,
   "id": "64d90ac2",
   "metadata": {},
   "outputs": [],
   "source": []
  }
 ],
 "metadata": {
  "kernelspec": {
   "display_name": "Python 3",
   "language": "python",
   "name": "python3"
  },
  "language_info": {
   "codemirror_mode": {
    "name": "ipython",
    "version": 3
   },
   "file_extension": ".py",
   "mimetype": "text/x-python",
   "name": "python",
   "nbconvert_exporter": "python",
   "pygments_lexer": "ipython3",
   "version": "3.8.8"
  },
  "toc": {
   "base_numbering": 1,
   "nav_menu": {},
   "number_sections": true,
   "sideBar": true,
   "skip_h1_title": false,
   "title_cell": "Table of Contents",
   "title_sidebar": "Contents",
   "toc_cell": false,
   "toc_position": {},
   "toc_section_display": true,
   "toc_window_display": false
  }
 },
 "nbformat": 4,
 "nbformat_minor": 5
}
