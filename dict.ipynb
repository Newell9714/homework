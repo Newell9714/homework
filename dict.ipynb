{
 "cells": [
  {
   "cell_type": "code",
   "execution_count": 11,
   "id": "f368daed",
   "metadata": {},
   "outputs": [
    {
     "name": "stdout",
     "output_type": "stream",
     "text": [
      "{'age': '', 'breed': '', 'legs': ''}\n"
     ]
    }
   ],
   "source": [
    "bird = {}\n",
    "bird['age']=''\n",
    "bird['breed']=''\n",
    "bird['legs']=''\n",
    "print(bird)"
   ]
  },
  {
   "cell_type": "code",
   "execution_count": 21,
   "id": "d7362059",
   "metadata": {},
   "outputs": [
    {
     "name": "stdout",
     "output_type": "stream",
     "text": [
      "{'first_name': '', 'last_name': '', 'gender': '', 'age': '', 'marital_status': '', 'skills': ['c', 'python', 'r'], 'country': '', 'city': '', 'address': ''}\n",
      "9\n",
      "['c', 'python', 'r']\n",
      "<class 'list'>\n"
     ]
    }
   ],
   "source": [
    "student = {'first_name':'','last_name':'','gender':'','age':'','marital_status':'','skills':['c','python','r'],'country':'','city':'','address':''}\n",
    "print(student)\n",
    "print(len(student))\n",
    "print(student.get('skills'))\n",
    "print(type(student.get('skills')))\n"
   ]
  },
  {
   "cell_type": "code",
   "execution_count": 23,
   "id": "5dd340f7",
   "metadata": {},
   "outputs": [
    {
     "name": "stdout",
     "output_type": "stream",
     "text": [
      "['c', 'python', 'r', 'english', 'music']\n"
     ]
    }
   ],
   "source": [
    "student = {'first_name':'','last_name':'','gender':'','age':'','marital_status':'','skills':['c','python','r'],'country':'','city':'','address':''}\n",
    "student['skills'] = ['c','python','r','english','music']\n",
    "print(student.get('skills'))"
   ]
  },
  {
   "cell_type": "code",
   "execution_count": 24,
   "id": "7dde132d",
   "metadata": {},
   "outputs": [
    {
     "name": "stdout",
     "output_type": "stream",
     "text": [
      "dict_keys(['first_name', 'last_name', 'gender', 'age', 'marital_status', 'skills', 'country', 'city', 'address'])\n"
     ]
    }
   ],
   "source": [
    "allkeys = student.keys()\n",
    "print(allkeys)"
   ]
  },
  {
   "cell_type": "code",
   "execution_count": 25,
   "id": "6562bf8c",
   "metadata": {},
   "outputs": [
    {
     "name": "stdout",
     "output_type": "stream",
     "text": [
      "dict_values(['', '', '', '', '', ['c', 'python', 'r', 'english', 'music'], '', '', ''])\n"
     ]
    }
   ],
   "source": [
    "allvalues = student.values()\n",
    "print(allvalues)"
   ]
  },
  {
   "cell_type": "code",
   "execution_count": 26,
   "id": "8d3e14f0",
   "metadata": {},
   "outputs": [
    {
     "name": "stdout",
     "output_type": "stream",
     "text": [
      "dict_items([('first_name', ''), ('last_name', ''), ('gender', ''), ('age', ''), ('marital_status', ''), ('skills', ['c', 'python', 'r', 'english', 'music']), ('country', ''), ('city', ''), ('address', '')])\n"
     ]
    }
   ],
   "source": [
    "print(student.items())"
   ]
  },
  {
   "cell_type": "code",
   "execution_count": 29,
   "id": "ad8110c0",
   "metadata": {},
   "outputs": [
    {
     "name": "stdout",
     "output_type": "stream",
     "text": [
      "{'last_name': '', 'gender': '', 'age': '', 'marital_status': '', 'skills': ['c', 'python', 'r', 'english', 'music'], 'country': '', 'city': '', 'address': ''}\n"
     ]
    }
   ],
   "source": [
    "del student['first_name']\n",
    "print(student)"
   ]
  },
  {
   "cell_type": "code",
   "execution_count": 30,
   "id": "70331099",
   "metadata": {},
   "outputs": [
    {
     "ename": "NameError",
     "evalue": "name 'student' is not defined",
     "output_type": "error",
     "traceback": [
      "\u001b[1;31m---------------------------------------------------------------------------\u001b[0m",
      "\u001b[1;31mNameError\u001b[0m                                 Traceback (most recent call last)",
      "\u001b[1;32m<ipython-input-30-2dad5d1a8685>\u001b[0m in \u001b[0;36m<module>\u001b[1;34m\u001b[0m\n\u001b[0;32m      1\u001b[0m \u001b[1;32mdel\u001b[0m \u001b[0mstudent\u001b[0m\u001b[1;33m\u001b[0m\u001b[1;33m\u001b[0m\u001b[0m\n\u001b[1;32m----> 2\u001b[1;33m \u001b[0mprint\u001b[0m\u001b[1;33m(\u001b[0m\u001b[0mstudent\u001b[0m\u001b[1;33m)\u001b[0m\u001b[1;33m\u001b[0m\u001b[1;33m\u001b[0m\u001b[0m\n\u001b[0m",
      "\u001b[1;31mNameError\u001b[0m: name 'student' is not defined"
     ]
    }
   ],
   "source": [
    "del student\n",
    "print(student)"
   ]
  },
  {
   "cell_type": "code",
   "execution_count": null,
   "id": "40e29211",
   "metadata": {},
   "outputs": [],
   "source": []
  }
 ],
 "metadata": {
  "kernelspec": {
   "display_name": "Python 3",
   "language": "python",
   "name": "python3"
  },
  "language_info": {
   "codemirror_mode": {
    "name": "ipython",
    "version": 3
   },
   "file_extension": ".py",
   "mimetype": "text/x-python",
   "name": "python",
   "nbconvert_exporter": "python",
   "pygments_lexer": "ipython3",
   "version": "3.8.8"
  },
  "toc": {
   "base_numbering": 1,
   "nav_menu": {},
   "number_sections": true,
   "sideBar": true,
   "skip_h1_title": false,
   "title_cell": "Table of Contents",
   "title_sidebar": "Contents",
   "toc_cell": false,
   "toc_position": {},
   "toc_section_display": true,
   "toc_window_display": false
  }
 },
 "nbformat": 4,
 "nbformat_minor": 5
}
